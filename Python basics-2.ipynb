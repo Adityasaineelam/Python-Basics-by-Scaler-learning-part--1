{
  "nbformat": 4,
  "nbformat_minor": 0,
  "metadata": {
    "colab": {
      "provenance": []
    },
    "kernelspec": {
      "name": "python3",
      "display_name": "Python 3"
    },
    "language_info": {
      "name": "python"
    }
  },
  "cells": [
    {
      "cell_type": "code",
      "execution_count": 2,
      "metadata": {
        "colab": {
          "base_uri": "https://localhost:8080/"
        },
        "id": "Do4bL8TTMiHL",
        "outputId": "4e4f6293-25c4-4c56-de3d-b1206a312110"
      },
      "outputs": [
        {
          "output_type": "stream",
          "name": "stdout",
          "text": [
            "we\n",
            "are\n",
            "weare\n"
          ]
        }
      ],
      "source": [
        "## String concatenation\n",
        "first=input()\n",
        "second=input()\n",
        "print(first + second)"
      ]
    },
    {
      "cell_type": "code",
      "source": [
        "## string formatting\n",
        "name=input()\n",
        "age=int(input())\n",
        "print(\"My name is {} and my age is {}\".format(name,age))"
      ],
      "metadata": {
        "colab": {
          "base_uri": "https://localhost:8080/"
        },
        "id": "D9QDNbF6Nphr",
        "outputId": "f089ddeb-830f-4b5e-b123-423a11485a40"
      },
      "execution_count": 3,
      "outputs": [
        {
          "output_type": "stream",
          "name": "stdout",
          "text": [
            "aditya\n",
            "21\n",
            "My name is aditya and my age is 21\n"
          ]
        }
      ]
    },
    {
      "cell_type": "code",
      "source": [
        "## print all vowels of a given string\n",
        "text=input()\n",
        "vowels=['a','e','i','o','u']\n",
        "for i in text:\n",
        "    if i in vowels:\n",
        "        print(i)"
      ],
      "metadata": {
        "colab": {
          "base_uri": "https://localhost:8080/"
        },
        "id": "sJZxyn0mN002",
        "outputId": "187ca257-1db4-4a5a-b2fc-9d1964eb9e15"
      },
      "execution_count": 4,
      "outputs": [
        {
          "output_type": "stream",
          "name": "stdout",
          "text": [
            "aei\n",
            "a\n",
            "e\n",
            "i\n"
          ]
        }
      ]
    },
    {
      "cell_type": "code",
      "source": [
        "## find if a string is palindrome\n",
        "s=input()\n",
        "if s==s[::-1]:\n",
        "  print(\"yes\")\n",
        "else:\n",
        "    print(\"no\")"
      ],
      "metadata": {
        "colab": {
          "base_uri": "https://localhost:8080/"
        },
        "id": "24g-MflKOK4c",
        "outputId": "efe6d756-1b48-40ad-b93b-fde19b856260"
      },
      "execution_count": 5,
      "outputs": [
        {
          "output_type": "stream",
          "name": "stdout",
          "text": [
            "121\n",
            "yes\n"
          ]
        }
      ]
    },
    {
      "cell_type": "code",
      "source": [
        "## lists\n",
        "## lsit slicing\n",
        "l=[1,2,3,4,5,6]\n",
        "len(l)\n",
        "l[::-1]\n",
        "l[5:0:-1]"
      ],
      "metadata": {
        "colab": {
          "base_uri": "https://localhost:8080/"
        },
        "id": "XwpPrUVvOg0Z",
        "outputId": "df351800-c563-4da4-c80a-abe76fd37e07"
      },
      "execution_count": 6,
      "outputs": [
        {
          "output_type": "execute_result",
          "data": {
            "text/plain": [
              "[6, 5, 4, 3, 2]"
            ]
          },
          "metadata": {},
          "execution_count": 6
        }
      ]
    },
    {
      "cell_type": "code",
      "source": [
        "l=[100,200,300,450,1000]\n",
        "l.index(300)\n",
        "print(l)\n",
        "l.remove(450)\n",
        "print(l)\n"
      ],
      "metadata": {
        "colab": {
          "base_uri": "https://localhost:8080/"
        },
        "id": "V6bctwQeO-i2",
        "outputId": "a334fc6f-1746-4369-d848-003fba3e0f5b"
      },
      "execution_count": 13,
      "outputs": [
        {
          "output_type": "stream",
          "name": "stdout",
          "text": [
            "[100, 200, 300, 450, 1000]\n",
            "[100, 200, 300, 1000]\n"
          ]
        }
      ]
    },
    {
      "cell_type": "code",
      "source": [
        "## Indexing in 2 d list\n",
        "l=[[1,2,3],[3,4,5],[4,5,6],[5,6,7]]\n",
        "print(l[0])\n",
        "## iteration in 2d list\n",
        "for i in l:\n",
        "    print(i)\n",
        "    for i in l:\n",
        "        print(i)"
      ],
      "metadata": {
        "colab": {
          "base_uri": "https://localhost:8080/"
        },
        "id": "X0mw37p5PdBe",
        "outputId": "5e43cf8b-8f71-4b36-8aa5-769976f6c8ae"
      },
      "execution_count": 16,
      "outputs": [
        {
          "output_type": "stream",
          "name": "stdout",
          "text": [
            "[1, 2, 3]\n",
            "[1, 2, 3]\n",
            "[1, 2, 3]\n",
            "[3, 4, 5]\n",
            "[4, 5, 6]\n",
            "[5, 6, 7]\n",
            "[3, 4, 5]\n",
            "[1, 2, 3]\n",
            "[3, 4, 5]\n",
            "[4, 5, 6]\n",
            "[5, 6, 7]\n",
            "[4, 5, 6]\n",
            "[1, 2, 3]\n",
            "[3, 4, 5]\n",
            "[4, 5, 6]\n",
            "[5, 6, 7]\n",
            "[5, 6, 7]\n",
            "[1, 2, 3]\n",
            "[3, 4, 5]\n",
            "[4, 5, 6]\n",
            "[5, 6, 7]\n"
          ]
        }
      ]
    },
    {
      "cell_type": "code",
      "source": [
        "## list comprehension\n",
        "for i in range(10):\n",
        "  print(i)"
      ],
      "metadata": {
        "colab": {
          "base_uri": "https://localhost:8080/"
        },
        "id": "jDJ6VEu9P_3i",
        "outputId": "61d404f1-dc4e-44d1-e9d2-ae82176b8feb"
      },
      "execution_count": 18,
      "outputs": [
        {
          "output_type": "stream",
          "name": "stdout",
          "text": [
            "0\n",
            "1\n",
            "2\n",
            "3\n",
            "4\n",
            "5\n",
            "6\n",
            "7\n",
            "8\n",
            "9\n"
          ]
        }
      ]
    },
    {
      "cell_type": "code",
      "source": [
        "## Find population\n",
        "l=[4,5,6,7,8,9,10,3,2]\n",
        "population=0\n",
        "for i in l:\n",
        "  population+=i\n",
        "print(population)"
      ],
      "metadata": {
        "colab": {
          "base_uri": "https://localhost:8080/"
        },
        "id": "91Rvn-CnQqEW",
        "outputId": "ea70e018-28fa-452a-ae52-ba44a6e7d0a0"
      },
      "execution_count": 19,
      "outputs": [
        {
          "output_type": "stream",
          "name": "stdout",
          "text": [
            "54\n"
          ]
        }
      ]
    },
    {
      "cell_type": "code",
      "source": [
        "## Tuples\n",
        "t=(\"abc\",\"abd\",\"rty\")\n",
        "print(type(t))\n",
        "print(type([t[1]]))"
      ],
      "metadata": {
        "colab": {
          "base_uri": "https://localhost:8080/"
        },
        "id": "2isqkWZoRL1X",
        "outputId": "d082fd73-67b8-4618-96eb-e73fe3ef22fb"
      },
      "execution_count": 21,
      "outputs": [
        {
          "output_type": "stream",
          "name": "stdout",
          "text": [
            "<class 'tuple'>\n",
            "<class 'list'>\n"
          ]
        }
      ]
    },
    {
      "cell_type": "code",
      "source": [
        "t5=tuple(\"abcdef\")\n",
        "print(t5)"
      ],
      "metadata": {
        "colab": {
          "base_uri": "https://localhost:8080/"
        },
        "id": "A8CSVK17SRpF",
        "outputId": "107c05b7-c62b-4778-8b9d-e456a328ba2e"
      },
      "execution_count": 22,
      "outputs": [
        {
          "output_type": "stream",
          "name": "stdout",
          "text": [
            "('a', 'b', 'c', 'd', 'e', 'f')\n"
          ]
        }
      ]
    },
    {
      "cell_type": "code",
      "source": [
        "## Mutability in tuples\n",
        "t=([1,3,4,5],\"Rahul\")\n",
        "print(type(t))\n",
        "print(type(t[0]))\n",
        "print(type(t[0][0]))"
      ],
      "metadata": {
        "colab": {
          "base_uri": "https://localhost:8080/"
        },
        "id": "Hc57vy_7ScOW",
        "outputId": "5616c024-ce7c-48db-ad33-46b5f62bed78"
      },
      "execution_count": 24,
      "outputs": [
        {
          "output_type": "stream",
          "name": "stdout",
          "text": [
            "<class 'tuple'>\n",
            "<class 'list'>\n",
            "<class 'int'>\n"
          ]
        }
      ]
    },
    {
      "cell_type": "code",
      "source": [
        "t=(1,2,3,4)\n",
        "type(t)\n",
        "t.count(1)\n",
        "t.index(1)\n",
        "len(t)\n",
        "t1=(5,6,7,8)\n",
        "t2=t+t1\n",
        "print(t2)\n"
      ],
      "metadata": {
        "colab": {
          "base_uri": "https://localhost:8080/"
        },
        "id": "EGGmz_z5S6ZB",
        "outputId": "93bde8b1-e23f-4d28-ead5-f3863e79979b"
      },
      "execution_count": 27,
      "outputs": [
        {
          "output_type": "stream",
          "name": "stdout",
          "text": [
            "(1, 2, 3, 4, 5, 6, 7, 8)\n"
          ]
        }
      ]
    },
    {
      "cell_type": "code",
      "source": [
        "## Dictionaries\n",
        "d={}\n",
        "print(type(d))\n",
        "print(d)\n",
        "{}"
      ],
      "metadata": {
        "colab": {
          "base_uri": "https://localhost:8080/"
        },
        "id": "IbUbMemmTZ28",
        "outputId": "d2f6feff-388c-427b-9df7-c5533d6862ef"
      },
      "execution_count": 28,
      "outputs": [
        {
          "output_type": "stream",
          "name": "stdout",
          "text": [
            "<class 'dict'>\n",
            "{}\n"
          ]
        },
        {
          "output_type": "execute_result",
          "data": {
            "text/plain": [
              "{}"
            ]
          },
          "metadata": {},
          "execution_count": 28
        }
      ]
    },
    {
      "cell_type": "code",
      "source": [
        "## find Frequnency of letters in a string\n",
        "name=input()\n",
        "freq={}\n",
        "for i in name:\n",
        "  if i in freq:\n",
        "    freq[i]+=1\n",
        "  else:\n",
        "    freq[i]=1\n",
        "print(freq)"
      ],
      "metadata": {
        "colab": {
          "base_uri": "https://localhost:8080/"
        },
        "id": "VNTgf0wyToy3",
        "outputId": "d5756cef-b29b-4715-f539-d44e2b773463"
      },
      "execution_count": 37,
      "outputs": [
        {
          "output_type": "stream",
          "name": "stdout",
          "text": [
            "aditya\n",
            "{'a': 2, 'd': 1, 'i': 1, 't': 1, 'y': 1}\n"
          ]
        }
      ]
    },
    {
      "cell_type": "code",
      "source": [
        "## Sets\n",
        "s=set()\n",
        "print(type(s))\n",
        "type(s)\n"
      ],
      "metadata": {
        "colab": {
          "base_uri": "https://localhost:8080/"
        },
        "id": "M7FLGpH8VPXV",
        "outputId": "b6750143-0341-48c8-e185-22ea45ae953a"
      },
      "execution_count": 38,
      "outputs": [
        {
          "output_type": "stream",
          "name": "stdout",
          "text": [
            "<class 'set'>\n"
          ]
        },
        {
          "output_type": "execute_result",
          "data": {
            "text/plain": [
              "set"
            ]
          },
          "metadata": {},
          "execution_count": 38
        }
      ]
    },
    {
      "cell_type": "code",
      "source": [
        "s=set(\"rahul\")\n",
        "type(s)\n",
        "print(s)\n",
        "for i in s:\n",
        "  print(i)"
      ],
      "metadata": {
        "colab": {
          "base_uri": "https://localhost:8080/"
        },
        "id": "KAszoNVwXDw5",
        "outputId": "8f73c6f2-fee6-4d43-d524-c0645728ed43"
      },
      "execution_count": 40,
      "outputs": [
        {
          "output_type": "stream",
          "name": "stdout",
          "text": [
            "{'a', 'h', 'r', 'u', 'l'}\n",
            "a\n",
            "h\n",
            "r\n",
            "u\n",
            "l\n"
          ]
        }
      ]
    },
    {
      "cell_type": "code",
      "source": [
        "python={\"1\",\"2\",\"3\",\"4\"}\n",
        "java={\"3\",\"5\",\"8\"}\n",
        "print(python.union(java))\n",
        "print(python.difference(java))\n",
        "print(python.intersection(java))"
      ],
      "metadata": {
        "colab": {
          "base_uri": "https://localhost:8080/"
        },
        "id": "oGS_EheBXOJe",
        "outputId": "8943edfa-be28-41ab-a4cf-70529d64d1ac"
      },
      "execution_count": 42,
      "outputs": [
        {
          "output_type": "stream",
          "name": "stdout",
          "text": [
            "{'2', '8', '5', '4', '1', '3'}\n",
            "{'2', '4', '1'}\n",
            "{'3'}\n"
          ]
        }
      ]
    },
    {
      "cell_type": "code",
      "source": [
        "## Functions\n",
        "def greet():\n",
        "  print(\"hello world\")\n",
        "greet()\n",
        ""
      ],
      "metadata": {
        "colab": {
          "base_uri": "https://localhost:8080/"
        },
        "id": "NiaXk6LKX3J6",
        "outputId": "b339dee7-8856-4498-c063-a2e6374d3b23"
      },
      "execution_count": 53,
      "outputs": [
        {
          "output_type": "stream",
          "name": "stdout",
          "text": [
            "hello world\n"
          ]
        }
      ]
    },
    {
      "cell_type": "code",
      "source": [
        "## Doc Strings\n",
        "def greet():\n",
        "  \"\"\"\n",
        "  This function greets everyone when it is called\n",
        "  \"\"\"\n",
        "  print(\"Hey, have a good day\")\n",
        ""
      ],
      "metadata": {
        "id": "Bbe2ene9YgRS"
      },
      "execution_count": 56,
      "outputs": []
    },
    {
      "cell_type": "code",
      "source": [
        "greet()"
      ],
      "metadata": {
        "colab": {
          "base_uri": "https://localhost:8080/"
        },
        "id": "dKLrR2P7ZU2x",
        "outputId": "c8ddbc3e-e48a-4ddf-de85-5096255a12dd"
      },
      "execution_count": 57,
      "outputs": [
        {
          "output_type": "stream",
          "name": "stdout",
          "text": [
            "Hey, have a good day\n"
          ]
        }
      ]
    },
    {
      "cell_type": "code",
      "source": [
        "def add(a,b):\n",
        "    c=a+b\n",
        "    print(c)\n",
        "add(3,5)\n",
        ""
      ],
      "metadata": {
        "colab": {
          "base_uri": "https://localhost:8080/"
        },
        "id": "i2XCLa-xZZxP",
        "outputId": "b5ae3680-a241-426f-8470-0b62c619d444"
      },
      "execution_count": 68,
      "outputs": [
        {
          "output_type": "stream",
          "name": "stdout",
          "text": [
            "8\n"
          ]
        }
      ]
    },
    {
      "cell_type": "code",
      "source": [
        "## lambda function: used when we need name less functions for a short period of time\n",
        "def add(a,b):\n",
        "  return a+b;\n",
        "add(3,4)\n",
        "## using lambda function\n",
        "(lambda a, b: a if a > b else b)(43.5, 21)"
      ],
      "metadata": {
        "colab": {
          "base_uri": "https://localhost:8080/"
        },
        "id": "e2ayocLYaHIK",
        "outputId": "529dbb63-bdd8-447b-a0c0-84838772692c"
      },
      "execution_count": 76,
      "outputs": [
        {
          "output_type": "execute_result",
          "data": {
            "text/plain": [
              "43.5"
            ]
          },
          "metadata": {},
          "execution_count": 76
        }
      ]
    },
    {
      "cell_type": "code",
      "source": [
        "(lambda a, b: a if a>b else b)(43,5)"
      ],
      "metadata": {
        "colab": {
          "base_uri": "https://localhost:8080/"
        },
        "id": "X3kEc6tMcROv",
        "outputId": "b91ce541-65da-4ed5-bd54-b7de24075351"
      },
      "execution_count": 77,
      "outputs": [
        {
          "output_type": "execute_result",
          "data": {
            "text/plain": [
              "43"
            ]
          },
          "metadata": {},
          "execution_count": 77
        }
      ]
    },
    {
      "cell_type": "code",
      "source": [
        "def even(li):\n",
        "    for i in li:\n",
        "        if i % 2 == 0:\n",
        "            print(i)\n",
        "\n",
        "lst = [1, 2, 3, 4, 5]\n",
        "even(lst)"
      ],
      "metadata": {
        "colab": {
          "base_uri": "https://localhost:8080/"
        },
        "id": "VTnyGvz2c7nJ",
        "outputId": "e8652de6-ce92-49cd-ed10-3c00c0151d94"
      },
      "execution_count": 81,
      "outputs": [
        {
          "output_type": "stream",
          "name": "stdout",
          "text": [
            "2\n",
            "4\n"
          ]
        }
      ]
    },
    {
      "cell_type": "code",
      "source": [],
      "metadata": {
        "id": "L-NTzn4WeHZn"
      },
      "execution_count": null,
      "outputs": []
    }
  ]
}