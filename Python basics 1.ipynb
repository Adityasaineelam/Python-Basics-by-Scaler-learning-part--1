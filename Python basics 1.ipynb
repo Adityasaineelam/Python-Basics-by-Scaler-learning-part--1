{
  "nbformat": 4,
  "nbformat_minor": 0,
  "metadata": {
    "colab": {
      "provenance": []
    },
    "kernelspec": {
      "name": "python3",
      "display_name": "Python 3"
    },
    "language_info": {
      "name": "python"
    }
  },
  "cells": [
    {
      "cell_type": "code",
      "execution_count": 1,
      "metadata": {
        "colab": {
          "base_uri": "https://localhost:8080/"
        },
        "id": "03mTcfrirHOV",
        "outputId": "46de7af8-3d26-4a52-c244-50ec118563ea"
      },
      "outputs": [
        {
          "output_type": "stream",
          "name": "stdout",
          "text": [
            "24\n"
          ]
        }
      ],
      "source": [
        "num=24\n",
        "print(num)"
      ]
    },
    {
      "cell_type": "code",
      "source": [
        "a=23\n",
        "print(type(a))\n",
        "print(a)"
      ],
      "metadata": {
        "colab": {
          "base_uri": "https://localhost:8080/"
        },
        "id": "QRroFQlGrtt-",
        "outputId": "affa4d74-c979-4ed2-81a2-df46c177c70d"
      },
      "execution_count": 2,
      "outputs": [
        {
          "output_type": "stream",
          "name": "stdout",
          "text": [
            "<class 'int'>\n",
            "23\n"
          ]
        }
      ]
    },
    {
      "cell_type": "code",
      "source": [
        "n=None\n",
        "print(n)\n",
        "print(type(n))"
      ],
      "metadata": {
        "colab": {
          "base_uri": "https://localhost:8080/"
        },
        "id": "X8k35adHr0Q4",
        "outputId": "763c8e56-d56c-4fe2-f55c-4f768f836474"
      },
      "execution_count": 3,
      "outputs": [
        {
          "output_type": "stream",
          "name": "stdout",
          "text": [
            "None\n",
            "<class 'NoneType'>\n"
          ]
        }
      ]
    },
    {
      "cell_type": "code",
      "source": [
        "## input function\n",
        "name=input(\"enter your name\")\n",
        "print(name)\n",
        "print(type(name))"
      ],
      "metadata": {
        "colab": {
          "base_uri": "https://localhost:8080/"
        },
        "id": "IKRH60JIr-AS",
        "outputId": "96abb9cf-3cf2-4924-a71a-f67ffe049f5d"
      },
      "execution_count": 4,
      "outputs": [
        {
          "output_type": "stream",
          "name": "stdout",
          "text": [
            "enter your nameaditya\n",
            "aditya\n",
            "<class 'str'>\n"
          ]
        }
      ]
    },
    {
      "cell_type": "code",
      "source": [
        "x=input()\n",
        "## type() gives string\n",
        "print(type(x))\n",
        "## input gives int\n",
        "print(input())"
      ],
      "metadata": {
        "colab": {
          "base_uri": "https://localhost:8080/"
        },
        "id": "cAYd9MpwsSsc",
        "outputId": "68a05418-de08-4064-e630-3f347aef8b87"
      },
      "execution_count": 6,
      "outputs": [
        {
          "output_type": "stream",
          "name": "stdout",
          "text": [
            "3\n",
            "<class 'str'>\n",
            "3\n",
            "3\n"
          ]
        }
      ]
    },
    {
      "cell_type": "code",
      "source": [
        "## type conversion\n",
        "x='1.5'\n",
        "y=float(x)\n",
        "print(y)\n",
        "print(type(y))"
      ],
      "metadata": {
        "colab": {
          "base_uri": "https://localhost:8080/"
        },
        "id": "sJXKj3KWs2BW",
        "outputId": "d8c1a96f-c00c-4787-e738-fbe2f67c115e"
      },
      "execution_count": 7,
      "outputs": [
        {
          "output_type": "stream",
          "name": "stdout",
          "text": [
            "1.5\n",
            "<class 'float'>\n"
          ]
        }
      ]
    },
    {
      "cell_type": "code",
      "source": [
        "x=input()\n",
        "print(type(x))\n",
        "b=int(x)\n",
        "print(b)\n",
        "print(type(b))"
      ],
      "metadata": {
        "colab": {
          "base_uri": "https://localhost:8080/"
        },
        "id": "OC5rxjM-tOnW",
        "outputId": "6f8d6542-7fbe-43a9-a8cc-2bcaa0e4b66d"
      },
      "execution_count": 8,
      "outputs": [
        {
          "output_type": "stream",
          "name": "stdout",
          "text": [
            "4\n",
            "<class 'str'>\n",
            "4\n",
            "<class 'int'>\n"
          ]
        }
      ]
    },
    {
      "cell_type": "code",
      "source": [
        "c=float(\"1.5\")\n",
        "print(type(c))\n",
        "b=int(c)\n",
        "print(b)"
      ],
      "metadata": {
        "colab": {
          "base_uri": "https://localhost:8080/"
        },
        "id": "XJIH1ROztpy_",
        "outputId": "d90eaf2d-36eb-46fa-9121-b53ccb320fde"
      },
      "execution_count": 9,
      "outputs": [
        {
          "output_type": "stream",
          "name": "stdout",
          "text": [
            "<class 'float'>\n",
            "1\n"
          ]
        }
      ]
    },
    {
      "cell_type": "code",
      "source": [
        "## printing of multiple values\n",
        "print(\"a\")\n",
        "print('a',\"b\",\"c\",23,24,25)"
      ],
      "metadata": {
        "colab": {
          "base_uri": "https://localhost:8080/"
        },
        "id": "-2YUtZTfuK5F",
        "outputId": "0745bdb8-fd90-4480-d15f-e128f6104494"
      },
      "execution_count": 10,
      "outputs": [
        {
          "output_type": "stream",
          "name": "stdout",
          "text": [
            "a\n",
            "a b c 23 24 25\n"
          ]
        }
      ]
    },
    {
      "cell_type": "code",
      "source": [
        "## sep=-> points one value to other value\n",
        "print(\"a\",23,sep='->')"
      ],
      "metadata": {
        "colab": {
          "base_uri": "https://localhost:8080/"
        },
        "id": "57EuRYw3uiCJ",
        "outputId": "2b2f6af8-21ff-46b8-9f8e-f94fcfaee19b"
      },
      "execution_count": 11,
      "outputs": [
        {
          "output_type": "stream",
          "name": "stdout",
          "text": [
            "a->23\n"
          ]
        }
      ]
    },
    {
      "cell_type": "code",
      "source": [
        "## sep=\\n keeps values in next line\n",
        "print(\"a\",23,sep='\\n')"
      ],
      "metadata": {
        "colab": {
          "base_uri": "https://localhost:8080/"
        },
        "id": "MIVfBayhu-sI",
        "outputId": "90fe6cef-d983-4fbc-b199-fbdc003627cb"
      },
      "execution_count": 12,
      "outputs": [
        {
          "output_type": "stream",
          "name": "stdout",
          "text": [
            "a\n",
            "23\n"
          ]
        }
      ]
    },
    {
      "cell_type": "code",
      "source": [
        "## changing default value of separator\n",
        "print('a',26,end=' ')\n",
        "print(\"b\",24)"
      ],
      "metadata": {
        "colab": {
          "base_uri": "https://localhost:8080/"
        },
        "id": "hSE9ogW7vKS1",
        "outputId": "64d07466-f5e7-4ed9-94b5-99ded3977798"
      },
      "execution_count": 14,
      "outputs": [
        {
          "output_type": "stream",
          "name": "stdout",
          "text": [
            "a 26 b 24\n"
          ]
        }
      ]
    },
    {
      "cell_type": "code",
      "source": [
        "print(\"a\",26,sep='\\n',end='->')\n",
        "print('b',24)"
      ],
      "metadata": {
        "colab": {
          "base_uri": "https://localhost:8080/"
        },
        "id": "pBZsMLI4vtzr",
        "outputId": "e1e7382b-d242-4e3a-ea34-ad603bb8b95e"
      },
      "execution_count": 15,
      "outputs": [
        {
          "output_type": "stream",
          "name": "stdout",
          "text": [
            "a\n",
            "26->b 24\n"
          ]
        }
      ]
    },
    {
      "cell_type": "code",
      "source": [
        "type(1)\n",
        "type(\"1\")\n"
      ],
      "metadata": {
        "colab": {
          "base_uri": "https://localhost:8080/"
        },
        "id": "CLIAFNQKxezK",
        "outputId": "1592a17a-a4c4-4ac3-ca1f-a84a3e994ea8"
      },
      "execution_count": 17,
      "outputs": [
        {
          "output_type": "execute_result",
          "data": {
            "text/plain": [
              "str"
            ]
          },
          "metadata": {},
          "execution_count": 17
        }
      ]
    },
    {
      "cell_type": "code",
      "source": [
        "## string concatenation\n",
        "first=\"aditya\"\n",
        "second=\"sai\"\n",
        "print(first+second)\n",
        "print(first*3)"
      ],
      "metadata": {
        "colab": {
          "base_uri": "https://localhost:8080/"
        },
        "id": "i5RMbi8Jx0mr",
        "outputId": "678de38e-74f9-47ab-c486-be9c4ba1c48f"
      },
      "execution_count": 19,
      "outputs": [
        {
          "output_type": "stream",
          "name": "stdout",
          "text": [
            "adityasai\n",
            "adityaadityaaditya\n"
          ]
        }
      ]
    },
    {
      "cell_type": "code",
      "source": [
        "## modulus operator\n",
        "a=10\n",
        "b=3\n",
        "print(a,b)\n",
        "print(a%b)\n",
        "##Floor division gives quotient rounded to nearest integer\n",
        "print(a//b)"
      ],
      "metadata": {
        "colab": {
          "base_uri": "https://localhost:8080/"
        },
        "id": "K-j7W3cjyG_I",
        "outputId": "0083dec4-1c06-4286-96bf-a6ce5406d7c4"
      },
      "execution_count": 23,
      "outputs": [
        {
          "output_type": "stream",
          "name": "stdout",
          "text": [
            "10 3\n",
            "1\n",
            "3\n"
          ]
        }
      ]
    },
    {
      "cell_type": "code",
      "source": [
        "##comparision operators\n",
        "a=6\n",
        "b=7\n",
        "print(a==b)\n",
        "print(a>b)\n",
        "print(a<b)\n",
        "print(a<=b)\n",
        "print(b>=a)"
      ],
      "metadata": {
        "colab": {
          "base_uri": "https://localhost:8080/"
        },
        "id": "aBJM_fVgzClM",
        "outputId": "4e9e51ae-1888-405e-fd9b-a3d9f477ed39"
      },
      "execution_count": 25,
      "outputs": [
        {
          "output_type": "stream",
          "name": "stdout",
          "text": [
            "False\n",
            "False\n",
            "True\n",
            "True\n",
            "True\n"
          ]
        }
      ]
    },
    {
      "cell_type": "code",
      "source": [
        "## assignment operators\n",
        "a=5\n",
        "a=a+3\n",
        "print(a)"
      ],
      "metadata": {
        "colab": {
          "base_uri": "https://localhost:8080/"
        },
        "id": "BHSYsAbFzcpH",
        "outputId": "5552c522-c87b-4a4d-9063-8bf904da2bcc"
      },
      "execution_count": 26,
      "outputs": [
        {
          "output_type": "stream",
          "name": "stdout",
          "text": [
            "8\n"
          ]
        }
      ]
    },
    {
      "cell_type": "code",
      "source": [
        "## Logical operators\n",
        "2>3 and 6>5"
      ],
      "metadata": {
        "colab": {
          "base_uri": "https://localhost:8080/"
        },
        "id": "-tyUoL3qznnK",
        "outputId": "1658ac48-5424-49dd-a430-a26fd254c3b2"
      },
      "execution_count": 30,
      "outputs": [
        {
          "output_type": "execute_result",
          "data": {
            "text/plain": [
              "False"
            ]
          },
          "metadata": {},
          "execution_count": 30
        }
      ]
    },
    {
      "cell_type": "code",
      "source": [
        "2>3 or 4<2"
      ],
      "metadata": {
        "colab": {
          "base_uri": "https://localhost:8080/"
        },
        "id": "5RF_ZRI40AEB",
        "outputId": "54f0635e-73d9-459d-8229-1435bb525c9f"
      },
      "execution_count": 31,
      "outputs": [
        {
          "output_type": "execute_result",
          "data": {
            "text/plain": [
              "False"
            ]
          },
          "metadata": {},
          "execution_count": 31
        }
      ]
    },
    {
      "cell_type": "code",
      "source": [
        "## special operators\n",
        "name=\"aditya\"\n",
        "print(\"a\" in name)\n",
        "print(\"a\" not in name)"
      ],
      "metadata": {
        "colab": {
          "base_uri": "https://localhost:8080/"
        },
        "id": "vmMC3naD0Dnn",
        "outputId": "56028299-72e7-4154-bcca-bbaeb0d11f7a"
      },
      "execution_count": 32,
      "outputs": [
        {
          "output_type": "stream",
          "name": "stdout",
          "text": [
            "True\n",
            "False\n"
          ]
        }
      ]
    },
    {
      "cell_type": "code",
      "source": [
        "## is operator checks if the two values are in same memory location\n",
        "a=10\n",
        "b=10\n",
        "print(a is b)\n",
        "print(id(a),id(b))"
      ],
      "metadata": {
        "colab": {
          "base_uri": "https://localhost:8080/"
        },
        "id": "4reN5siL0YLz",
        "outputId": "d32eab2a-27c1-4bdf-a1e3-1911cb044873"
      },
      "execution_count": 34,
      "outputs": [
        {
          "output_type": "stream",
          "name": "stdout",
          "text": [
            "True\n",
            "11642376 11642376\n"
          ]
        }
      ]
    },
    {
      "cell_type": "code",
      "source": [
        "## Syntax of if else\n",
        "age=int(input())\n",
        "if age>18:\n",
        "         print(\"eligible\")\n",
        "else:\n",
        "    print(\"not eligible\")"
      ],
      "metadata": {
        "colab": {
          "base_uri": "https://localhost:8080/"
        },
        "id": "pVTYJU6J0vVQ",
        "outputId": "915a9ac2-1263-4ee2-8ddb-832da6a43c56"
      },
      "execution_count": 39,
      "outputs": [
        {
          "output_type": "stream",
          "name": "stdout",
          "text": [
            "34\n",
            "eligible\n"
          ]
        }
      ]
    },
    {
      "cell_type": "code",
      "source": [
        "## nested if else\n",
        "age=int(input())\n",
        "if age>18:\n",
        "         print(\"eligible\")\n",
        "else:\n",
        "    if age==18:\n",
        "        print(\"just eligible\")\n",
        "    else:\n",
        "        print(\"not eligible\")"
      ],
      "metadata": {
        "colab": {
          "base_uri": "https://localhost:8080/"
        },
        "id": "N4rV1BG01mcF",
        "outputId": "e2cc34c8-fe03-4402-ecb9-d907b3de66ec"
      },
      "execution_count": 40,
      "outputs": [
        {
          "output_type": "stream",
          "name": "stdout",
          "text": [
            "34\n",
            "eligible\n"
          ]
        }
      ]
    },
    {
      "cell_type": "code",
      "source": [
        "## if elif and else\n",
        "num=int(input())\n",
        "if num>0:\n",
        "    print(\"positive\")\n",
        "elif num==0:\n",
        "    print(\"zero\")\n",
        "else:\n",
        "    print(\"negative\")"
      ],
      "metadata": {
        "colab": {
          "base_uri": "https://localhost:8080/"
        },
        "id": "XrU9fETi18BH",
        "outputId": "9a4d09f5-0227-4def-efa6-a5898bdc0429"
      },
      "execution_count": 41,
      "outputs": [
        {
          "output_type": "stream",
          "name": "stdout",
          "text": [
            "-9\n",
            "negative\n"
          ]
        }
      ]
    },
    {
      "cell_type": "code",
      "source": [
        "## grading system\n",
        "marks=int(input())\n",
        "if marks>90:\n",
        "    print(\"A\")\n",
        "elif marks>80:\n",
        "    print(\"B\")\n",
        "elif marks>70:\n",
        "    print(\"C\")\n",
        "elif marks>60:\n",
        "    print(\"D\")\n",
        "elif marks>50:\n",
        "    print(\"E\")\n",
        "else:\n",
        "   print(\"Invalid\")"
      ],
      "metadata": {
        "colab": {
          "base_uri": "https://localhost:8080/"
        },
        "id": "aPzX2PTU2GNT",
        "outputId": "00c4cb04-3b51-4e2a-eac9-a9dab3203b1b"
      },
      "execution_count": 44,
      "outputs": [
        {
          "output_type": "stream",
          "name": "stdout",
          "text": [
            "78\n",
            "C\n"
          ]
        }
      ]
    },
    {
      "cell_type": "code",
      "source": [
        "## print largest find max in a list\n",
        "marks=[90,80,70,60,50,150]\n",
        "max=marks[0]\n",
        "for i in marks:\n",
        "    if i>max:\n",
        "        max=i\n",
        "print(max)"
      ],
      "metadata": {
        "colab": {
          "base_uri": "https://localhost:8080/"
        },
        "id": "XgaTxq7B2nRW",
        "outputId": "28b5a31e-cbf7-4a59-e701-126fb834f72a"
      },
      "execution_count": 46,
      "outputs": [
        {
          "output_type": "stream",
          "name": "stdout",
          "text": [
            "150\n"
          ]
        }
      ]
    },
    {
      "cell_type": "code",
      "source": [
        "## loops while loop\n",
        "i=1\n",
        "while(i<=10):\n",
        "  print(i)\n",
        "  i=i+1"
      ],
      "metadata": {
        "colab": {
          "base_uri": "https://localhost:8080/"
        },
        "id": "UghveaYl3C6Y",
        "outputId": "2c3fb18e-2aa1-42df-c8e2-f80c0a3d550b"
      },
      "execution_count": 48,
      "outputs": [
        {
          "output_type": "stream",
          "name": "stdout",
          "text": [
            "1\n",
            "2\n",
            "3\n",
            "4\n",
            "5\n",
            "6\n",
            "7\n",
            "8\n",
            "9\n",
            "10\n"
          ]
        }
      ]
    },
    {
      "cell_type": "code",
      "source": [
        "## print even numbers in a given range\n",
        "i=0\n",
        "while i<=10:\n",
        "  if i%2==0:\n",
        "    print(i)\n",
        "  i=i+1\n"
      ],
      "metadata": {
        "colab": {
          "base_uri": "https://localhost:8080/"
        },
        "id": "vZnU-R5-3gzc",
        "outputId": "ae59d522-3e2f-4336-9119-5b6c52b56344"
      },
      "execution_count": 50,
      "outputs": [
        {
          "output_type": "stream",
          "name": "stdout",
          "text": [
            "0\n",
            "2\n",
            "4\n",
            "6\n",
            "8\n",
            "10\n"
          ]
        }
      ]
    },
    {
      "cell_type": "code",
      "source": [
        "## print sum of all numbers from 1 to 10\n",
        "i=1\n",
        "add=0;\n",
        "while i<=10:\n",
        "  add=add+i\n",
        "  i=i+1\n",
        "print(add)"
      ],
      "metadata": {
        "colab": {
          "base_uri": "https://localhost:8080/"
        },
        "id": "C11G1gxt4gWg",
        "outputId": "2343fd36-78e6-4e12-c173-23add1139ff7"
      },
      "execution_count": 51,
      "outputs": [
        {
          "output_type": "stream",
          "name": "stdout",
          "text": [
            "55\n"
          ]
        }
      ]
    },
    {
      "cell_type": "code",
      "source": [
        "## range function\n",
        "list(range(5))"
      ],
      "metadata": {
        "colab": {
          "base_uri": "https://localhost:8080/"
        },
        "id": "2X4O8dRW5b0q",
        "outputId": "44ad51fb-e57a-4a9f-b9bd-270e1078f47b"
      },
      "execution_count": 52,
      "outputs": [
        {
          "output_type": "execute_result",
          "data": {
            "text/plain": [
              "[0, 1, 2, 3, 4]"
            ]
          },
          "metadata": {},
          "execution_count": 52
        }
      ]
    },
    {
      "cell_type": "code",
      "source": [
        "## for loop   multiplication table\n",
        "n=int(input())\n",
        "for i in range (1,11):\n",
        "          print(i*n)"
      ],
      "metadata": {
        "colab": {
          "base_uri": "https://localhost:8080/"
        },
        "id": "Nrh2OgHR5pO-",
        "outputId": "310b06f3-4299-44f1-99e3-ceaa397a7933"
      },
      "execution_count": 54,
      "outputs": [
        {
          "output_type": "stream",
          "name": "stdout",
          "text": [
            "5\n",
            "5\n",
            "10\n",
            "15\n",
            "20\n",
            "25\n",
            "30\n",
            "35\n",
            "40\n",
            "45\n",
            "50\n"
          ]
        }
      ]
    },
    {
      "cell_type": "code",
      "source": [
        "## print pattern\n",
        "n=int(input())\n",
        "for i in range(5):\n",
        "  print()\n",
        "  for i in range(4):\n",
        "    print('#',end=\" \")\n",
        "  print(\"#\",end=\" \")\n",
        "  print()"
      ],
      "metadata": {
        "colab": {
          "base_uri": "https://localhost:8080/"
        },
        "id": "045flWDt6QcX",
        "outputId": "916fe944-892f-4e16-c16a-3d39ae550ce9"
      },
      "execution_count": 56,
      "outputs": [
        {
          "output_type": "stream",
          "name": "stdout",
          "text": [
            "4\n",
            "\n",
            "# # # # # \n",
            "\n",
            "# # # # # \n",
            "\n",
            "# # # # # \n",
            "\n",
            "# # # # # \n",
            "\n",
            "# # # # # \n"
          ]
        }
      ]
    },
    {
      "cell_type": "code",
      "source": [
        "## Print pattern 2\n",
        "n=int(input())\n",
        "for i in range(1,n+1):\n",
        "  for j in range(i):\n",
        "    print(\"#\",end=\" \")\n",
        "  print()\n"
      ],
      "metadata": {
        "colab": {
          "base_uri": "https://localhost:8080/"
        },
        "id": "3XAY8nZE6-i0",
        "outputId": "50408aa0-608b-4f1d-92a6-2def98f5fda6"
      },
      "execution_count": 60,
      "outputs": [
        {
          "output_type": "stream",
          "name": "stdout",
          "text": [
            "5\n",
            "# \n",
            "# # \n",
            "# # # \n",
            "# # # # \n",
            "# # # # # \n"
          ]
        }
      ]
    },
    {
      "cell_type": "code",
      "source": [
        "## Break continue and pass statements\n",
        "n=int(input())\n",
        "for i in range(1,10):\n",
        "       pass\n",
        "for i in range(1,10):\n",
        "  if i==5:\n",
        "    continue\n",
        "    print(i)\n"
      ],
      "metadata": {
        "colab": {
          "base_uri": "https://localhost:8080/"
        },
        "id": "1CFPUmgh8CWP",
        "outputId": "da848676-fc8b-4e3d-ac27-7ee3e094ca0c"
      },
      "execution_count": 64,
      "outputs": [
        {
          "name": "stdout",
          "output_type": "stream",
          "text": [
            "4\n"
          ]
        }
      ]
    },
    {
      "cell_type": "code",
      "source": [
        "## Strings\n",
        "'ab'=='ba'\n",
        "ord('A')"
      ],
      "metadata": {
        "colab": {
          "base_uri": "https://localhost:8080/"
        },
        "id": "dkfc1bU_9dJz",
        "outputId": "4bda781c-408b-4462-fdf9-741663bcd066"
      },
      "execution_count": 68,
      "outputs": [
        {
          "output_type": "execute_result",
          "data": {
            "text/plain": [
              "65"
            ]
          },
          "metadata": {},
          "execution_count": 68
        }
      ]
    },
    {
      "cell_type": "code",
      "source": [
        "chr(52)"
      ],
      "metadata": {
        "colab": {
          "base_uri": "https://localhost:8080/",
          "height": 35
        },
        "id": "Vx7_1a3S_FTG",
        "outputId": "179a527c-032d-49ff-ff92-434e9e10851c"
      },
      "execution_count": 69,
      "outputs": [
        {
          "output_type": "execute_result",
          "data": {
            "text/plain": [
              "'4'"
            ],
            "application/vnd.google.colaboratory.intrinsic+json": {
              "type": "string"
            }
          },
          "metadata": {},
          "execution_count": 69
        }
      ]
    },
    {
      "cell_type": "code",
      "source": [
        "## String slicing\n",
        "name='aditya sai'\n",
        "name[8]\n",
        "name[0:3]\n",
        "name[::3]\n",
        "size=len(name)"
      ],
      "metadata": {
        "id": "Rknx_oCS_PPw"
      },
      "execution_count": 76,
      "outputs": []
    },
    {
      "cell_type": "code",
      "source": [],
      "metadata": {
        "id": "PErX8QzxAUBl"
      },
      "execution_count": null,
      "outputs": []
    },
    {
      "cell_type": "code",
      "source": [],
      "metadata": {
        "id": "fxWDUqZ8_3g2"
      },
      "execution_count": null,
      "outputs": []
    }
  ]
}